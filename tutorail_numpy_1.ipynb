{
 "cells": [
  {
   "cell_type": "code",
   "execution_count": 1,
   "id": "initial_id",
   "metadata": {
    "collapsed": true,
    "ExecuteTime": {
     "end_time": "2023-12-22T05:32:41.959333900Z",
     "start_time": "2023-12-22T05:32:41.735586400Z"
    }
   },
   "outputs": [],
   "source": [
    "\"\"\"\n",
    "## What is an 'array'?\n",
    ">> In computer programming, an array is a structure for storing and retrieving data. We often talk about an array as if it were a grid in space, with each cell storing one element of the data. \n",
    "\n",
    "\n",
    "==>Most Numpy array have some restriction. For instance:\n",
    "* All elements of the array must be of the same type of data.\n",
    "* Once created, the total size of the array can't be changed.\n",
    "* The shape must be \"rectangular\", not \"jagged\"; eg: each row of two-dimensional array must have the same number of columns.\n",
    "\"\"\"\n",
    "\n",
    "import numpy as np"
   ]
  },
  {
   "cell_type": "code",
   "execution_count": 2,
   "outputs": [
    {
     "data": {
      "text/plain": "array([1, 2, 3, 4, 5, 6])"
     },
     "execution_count": 2,
     "metadata": {},
     "output_type": "execute_result"
    }
   ],
   "source": [
    "\"\"\"\n",
    "One way to initialize an array is using a python sequence, such as a list. For example:\n",
    "\"\"\"\n",
    "\n",
    "a = np.array([1, 2, 3, 4, 5, 6])\n",
    "a"
   ],
   "metadata": {
    "collapsed": false,
    "ExecuteTime": {
     "end_time": "2023-12-22T05:34:22.097641200Z",
     "start_time": "2023-12-22T05:34:22.055519500Z"
    }
   },
   "id": "8893be1e302b34a3"
  },
  {
   "cell_type": "code",
   "execution_count": 3,
   "outputs": [
    {
     "name": "stdout",
     "output_type": "stream",
     "text": [
      "[1 2 3 4 5 6]\n"
     ]
    }
   ],
   "source": [
    "print(a)"
   ],
   "metadata": {
    "collapsed": false,
    "ExecuteTime": {
     "end_time": "2023-12-22T05:34:29.106679600Z",
     "start_time": "2023-12-22T05:34:29.085159500Z"
    }
   },
   "id": "5cb0164b19d19902"
  },
  {
   "cell_type": "code",
   "execution_count": 4,
   "outputs": [
    {
     "data": {
      "text/plain": "1"
     },
     "execution_count": 4,
     "metadata": {},
     "output_type": "execute_result"
    }
   ],
   "source": [
    "a[0]"
   ],
   "metadata": {
    "collapsed": false,
    "ExecuteTime": {
     "end_time": "2023-12-22T05:34:44.155990400Z",
     "start_time": "2023-12-22T05:34:44.144237300Z"
    }
   },
   "id": "bfb7112d6539a75c"
  },
  {
   "cell_type": "code",
   "execution_count": 5,
   "outputs": [],
   "source": [
    "# Array is mutable\n",
    "a[0] = 10"
   ],
   "metadata": {
    "collapsed": false,
    "ExecuteTime": {
     "end_time": "2023-12-22T05:35:33.686297600Z",
     "start_time": "2023-12-22T05:35:33.646029300Z"
    }
   },
   "id": "4f9843607900def3"
  },
  {
   "cell_type": "code",
   "execution_count": 6,
   "outputs": [
    {
     "name": "stdout",
     "output_type": "stream",
     "text": [
      "[10  2  3  4  5  6]\n"
     ]
    }
   ],
   "source": [
    "print(a)"
   ],
   "metadata": {
    "collapsed": false,
    "ExecuteTime": {
     "end_time": "2023-12-22T05:35:38.015683300Z",
     "start_time": "2023-12-22T05:35:37.998275800Z"
    }
   },
   "id": "7c6733a17905820b"
  },
  {
   "cell_type": "code",
   "execution_count": 8,
   "outputs": [
    {
     "name": "stdout",
     "output_type": "stream",
     "text": [
      "[10  2  3]\n"
     ]
    }
   ],
   "source": [
    "# Like list we can use Python slice notation for indexing.\n",
    "print(a[:3])"
   ],
   "metadata": {
    "collapsed": false,
    "ExecuteTime": {
     "end_time": "2023-12-22T05:36:43.405235300Z",
     "start_time": "2023-12-22T05:36:43.386846100Z"
    }
   },
   "id": "4bcdd11b0071b823"
  },
  {
   "cell_type": "code",
   "execution_count": 9,
   "outputs": [
    {
     "name": "stdout",
     "output_type": "stream",
     "text": [
      "[4 5 6]\n"
     ]
    }
   ],
   "source": [
    "\"\"\"\n",
    "Note: One major difference is that slice indexing of a list copies the elements into a new list, but slicing an array returns a view: an object that refers to the data in the original array. The original array can be mutated using the view.\n",
    "\"\"\"\n",
    "\n",
    "b = a[3:]\n",
    "print(b)"
   ],
   "metadata": {
    "collapsed": false,
    "ExecuteTime": {
     "end_time": "2023-12-22T05:44:15.052491900Z",
     "start_time": "2023-12-22T05:44:15.029774100Z"
    }
   },
   "id": "7da8d0fc0b6cc155"
  },
  {
   "cell_type": "code",
   "execution_count": 10,
   "outputs": [
    {
     "name": "stdout",
     "output_type": "stream",
     "text": [
      "Before: [10  2  3  4  5  6]\n",
      "After: [10  2  3 40  5  6]\n"
     ]
    }
   ],
   "source": [
    "print(\"Before:\", a)\n",
    "b[0] = 40\n",
    "print(\"After:\", a)"
   ],
   "metadata": {
    "collapsed": false,
    "ExecuteTime": {
     "end_time": "2023-12-22T05:45:10.701459800Z",
     "start_time": "2023-12-22T05:45:10.683409500Z"
    }
   },
   "id": "49dc404ca4de5be9"
  },
  {
   "cell_type": "code",
   "execution_count": 11,
   "outputs": [
    {
     "data": {
      "text/plain": "array([[ 1,  2,  3,  4],\n       [ 5,  6,  7,  8],\n       [ 9, 10, 11, 12]])"
     },
     "execution_count": 11,
     "metadata": {},
     "output_type": "execute_result"
    }
   ],
   "source": [
    "\"\"\"\n",
    "## Multi-dimensional Array:\n",
    "\n",
    "Two- and higher-dimensional array can be initialize from nasted Python sequence\n",
    "\"\"\"\n",
    "a = np.array([\n",
    "    [1, 2, 3, 4],\n",
    "    [5, 6, 7, 8],\n",
    "    [9, 10, 11, 12]\n",
    "])\n",
    "a"
   ],
   "metadata": {
    "collapsed": false,
    "ExecuteTime": {
     "end_time": "2023-12-22T05:47:42.093375500Z",
     "start_time": "2023-12-22T05:47:42.062617200Z"
    }
   },
   "id": "4b029cb31688933d"
  },
  {
   "cell_type": "code",
   "execution_count": 12,
   "outputs": [
    {
     "name": "stdout",
     "output_type": "stream",
     "text": [
      "[[ 1  2  3  4]\n",
      " [ 5  6  7  8]\n",
      " [ 9 10 11 12]]\n"
     ]
    }
   ],
   "source": [
    "print(a)"
   ],
   "metadata": {
    "collapsed": false,
    "ExecuteTime": {
     "end_time": "2023-12-22T05:47:47.756548100Z",
     "start_time": "2023-12-22T05:47:47.712551600Z"
    }
   },
   "id": "6ac7313669af040f"
  },
  {
   "cell_type": "code",
   "execution_count": 13,
   "outputs": [
    {
     "data": {
      "text/plain": "8"
     },
     "execution_count": 13,
     "metadata": {},
     "output_type": "execute_result"
    }
   ],
   "source": [
    "\"\"\"\n",
    "Another difference between an array and a list of lists is that an element of the array can be accessed by the index along each axis within a single set of square brackets, separated by commas. For instance, the element \"8\" is in row 1 and column 3:\n",
    "\"\"\"\n",
    "a[1, 3]"
   ],
   "metadata": {
    "collapsed": false,
    "ExecuteTime": {
     "end_time": "2023-12-22T05:51:34.559243900Z",
     "start_time": "2023-12-22T05:51:34.537720700Z"
    }
   },
   "id": "b5bbca4869458a96"
  },
  {
   "cell_type": "code",
   "execution_count": 14,
   "outputs": [
    {
     "data": {
      "text/plain": "'\\nNote: it is familiar practice in mathematics to prefer to elements of a matrix by the row index first and the column index second. This happens to be true for two-dimensional arrays, but a better mental model is to think of the column index as coming last and the row index as second last. This generalize to arrays with any numbers of dimensions. \\n\\n\\nNote: \\nYou might hear of a 0-D (zero-dimensional) array referred to as a “scalar”, a 1-D (one-dimensional) array as a “vector”, a 2-D (two-dimensional) array as a “matrix”, or an N-D (N-dimensional, where “N” is typically an integer greater than 2) array as a “tensor”. For clarity, it is best to avoid the mathematical terms when referring to an array because the mathematical objects with these names behave differently than arrays (e.g. “matrix” multiplication is fundamentally different from “array” multiplication), and there are other objects in the scientific Python ecosystem that have these names (e.g. the fundamental data structure of PyTorch is the “tensor”).\\n'"
     },
     "execution_count": 14,
     "metadata": {},
     "output_type": "execute_result"
    }
   ],
   "source": [
    "\"\"\"\n",
    "Note: it is familiar practice in mathematics to prefer to elements of a matrix by the row index first and the column index second. This happens to be true for two-dimensional arrays, but a better mental model is to think of the column index as coming last and the row index as second last. This generalize to arrays with any numbers of dimensions. \n",
    "\n",
    "\n",
    "Note: \n",
    "You might hear of a 0-D (zero-dimensional) array referred to as a “scalar”, a 1-D (one-dimensional) array as a “vector”, a 2-D (two-dimensional) array as a “matrix”, or an N-D (N-dimensional, where “N” is typically an integer greater than 2) array as a “tensor”. For clarity, it is best to avoid the mathematical terms when referring to an array because the mathematical objects with these names behave differently than arrays (e.g. “matrix” multiplication is fundamentally different from “array” multiplication), and there are other objects in the scientific Python ecosystem that have these names (e.g. the fundamental data structure of PyTorch is the “tensor”).\n",
    "\"\"\""
   ],
   "metadata": {
    "collapsed": false,
    "ExecuteTime": {
     "end_time": "2023-12-22T05:55:40.802909600Z",
     "start_time": "2023-12-22T05:55:40.781756900Z"
    }
   },
   "id": "123cf875cfc0cd8b"
  },
  {
   "cell_type": "code",
   "execution_count": 15,
   "outputs": [
    {
     "data": {
      "text/plain": "2"
     },
     "execution_count": 15,
     "metadata": {},
     "output_type": "execute_result"
    }
   ],
   "source": [
    "\"\"\" Array Attributes:\n",
    "==> This section covers the 'ndim', 'shape', 'size', and 'dtype' attributes of an array.\n",
    "\"\"\"\n",
    "\n",
    "#1. ndim: return the number of dimension of the array\n",
    "a.ndim\n",
    "\n"
   ],
   "metadata": {
    "collapsed": false,
    "ExecuteTime": {
     "end_time": "2023-12-22T06:01:51.981561300Z",
     "start_time": "2023-12-22T06:01:51.955591900Z"
    }
   },
   "id": "3b6de0cc7afe5b2"
  },
  {
   "cell_type": "code",
   "execution_count": 18,
   "outputs": [
    {
     "name": "stdout",
     "output_type": "stream",
     "text": [
      "(3, 4)\n"
     ]
    },
    {
     "data": {
      "text/plain": "True"
     },
     "execution_count": 18,
     "metadata": {},
     "output_type": "execute_result"
    }
   ],
   "source": [
    "#2. shape: return tuple of non-negative integers that specify the number of elements along each dimension.\n",
    "print(a.shape)\n",
    "\n",
    "len(a.shape) == a.ndim"
   ],
   "metadata": {
    "collapsed": false,
    "ExecuteTime": {
     "end_time": "2023-12-22T06:04:30.219483800Z",
     "start_time": "2023-12-22T06:04:30.190208Z"
    }
   },
   "id": "587e06b6d8367a62"
  },
  {
   "cell_type": "code",
   "execution_count": 21,
   "outputs": [
    {
     "name": "stdout",
     "output_type": "stream",
     "text": [
      "12\n"
     ]
    },
    {
     "data": {
      "text/plain": "True"
     },
     "execution_count": 21,
     "metadata": {},
     "output_type": "execute_result"
    }
   ],
   "source": [
    "#3. size: return total number of elements contained in array.\n",
    "print(a.size)\n",
    "\n",
    "import math\n",
    "\n",
    "a.size == math.prod(a.shape)"
   ],
   "metadata": {
    "collapsed": false,
    "ExecuteTime": {
     "end_time": "2023-12-22T06:06:09.901698100Z",
     "start_time": "2023-12-22T06:06:09.889671Z"
    }
   },
   "id": "a601ec8bdba02273"
  },
  {
   "cell_type": "code",
   "execution_count": 22,
   "outputs": [
    {
     "data": {
      "text/plain": "dtype('int32')"
     },
     "execution_count": 22,
     "metadata": {},
     "output_type": "execute_result"
    }
   ],
   "source": [
    "#4. dtype: Arrays are typically \"homogeneous\" meaning that they\n",
    "# contain elements of only one \"data type\".\n",
    "\n",
    "a.dtype"
   ],
   "metadata": {
    "collapsed": false,
    "ExecuteTime": {
     "end_time": "2023-12-22T06:08:13.074539500Z",
     "start_time": "2023-12-22T06:08:12.998391Z"
    }
   },
   "id": "6aae142c0c929c63"
  },
  {
   "cell_type": "code",
   "execution_count": 28,
   "outputs": [
    {
     "name": "stdout",
     "output_type": "stream",
     "text": [
      "1d array:  [0. 0. 0.]\n",
      "\n",
      "\n",
      "2d array: \n",
      " [[0. 0. 0.]\n",
      " [0. 0. 0.]]\n"
     ]
    }
   ],
   "source": [
    "\"\"\"\n",
    "How to create a basic array\n",
    "--> This section covers np.zeros(), np.ones(), np.empty(), np.arrange(), np.linspace()\n",
    "\"\"\"\n",
    "\n",
    "#1. np.zeros(): Easily create an array filled with zeros.\n",
    "print(\"1d array: \", np.zeros(3))\n",
    "print(\"\\n\\n2d array: \\n\", np.zeros((2, 3)))"
   ],
   "metadata": {
    "collapsed": false,
    "ExecuteTime": {
     "end_time": "2023-12-22T06:17:47.121941400Z",
     "start_time": "2023-12-22T06:17:47.107865800Z"
    }
   },
   "id": "7da584d8be15ab9e"
  },
  {
   "cell_type": "code",
   "execution_count": 29,
   "outputs": [
    {
     "data": {
      "text/plain": "array([[1., 1.],\n       [1., 1.],\n       [1., 1.]])"
     },
     "execution_count": 29,
     "metadata": {},
     "output_type": "execute_result"
    }
   ],
   "source": [
    "#2. np.ones(): Easily create array filled with ones.\n",
    "\n",
    "np.ones((3, 2))"
   ],
   "metadata": {
    "collapsed": false,
    "ExecuteTime": {
     "end_time": "2023-12-22T06:20:20.385445900Z",
     "start_time": "2023-12-22T06:20:20.353721Z"
    }
   },
   "id": "20c13a04253d1f5e"
  },
  {
   "cell_type": "code",
   "execution_count": 39,
   "outputs": [
    {
     "data": {
      "text/plain": "array([[ 0.00000000e+000,  0.00000000e+000,  0.00000000e+000,\n         0.00000000e+000],\n       [ 0.00000000e+000,  0.00000000e+000,  1.11610210e-311,\n        -3.64430086e+279],\n       [ 0.00000000e+000,  0.00000000e+000,  1.11608498e-311,\n         1.75812418e-155],\n       [ 0.00000000e+000,  0.00000000e+000,  1.11608363e-311,\n        -1.67516515e+137],\n       [ 6.95246181e-310,  4.28752839e-284,  1.11608486e-311,\n        -1.59804644e+057]])"
     },
     "execution_count": 39,
     "metadata": {},
     "output_type": "execute_result"
    }
   ],
   "source": [
    "#3. np.empty(): This method creates an array whose initial content is random and depends on the state of the memory. The reason to use empty() over zeros() is speed - just make sure that every element afterward!\n",
    "\n",
    "np.empty((5, 4))"
   ],
   "metadata": {
    "collapsed": false,
    "ExecuteTime": {
     "end_time": "2023-12-22T06:24:07.484005Z",
     "start_time": "2023-12-22T06:24:07.467090200Z"
    }
   },
   "id": "473bca15945db3e3"
  },
  {
   "cell_type": "code",
   "execution_count": 40,
   "outputs": [
    {
     "name": "stdout",
     "output_type": "stream",
     "text": [
      "[0 1 2 3 4 5 6 7 8]\n",
      "[2 4 6 8]\n"
     ]
    }
   ],
   "source": [
    "#4. np.arange(): You can create an array with a range of elements:\n",
    "print(np.arange(9))\n",
    "\n",
    "#And even an array that contain a range of evenly spaced intervals. To do this, you will specify the:\n",
    "# np.arange(first_number, last_number, step_size)\n",
    "\n",
    "print(np.arange(2, 9, 2))"
   ],
   "metadata": {
    "collapsed": false,
    "ExecuteTime": {
     "end_time": "2023-12-22T06:28:54.850334800Z",
     "start_time": "2023-12-22T06:28:54.699162600Z"
    }
   },
   "id": "728b62d2ef40af8b"
  },
  {
   "cell_type": "code",
   "execution_count": 43,
   "outputs": [
    {
     "name": "stdout",
     "output_type": "stream",
     "text": [
      "[2.   3.75 5.5  7.25 9.  ]\n",
      "\n",
      "\n",
      "\n",
      "[0.         0.10526316 0.21052632 0.31578947 0.42105263 0.52631579\n",
      " 0.63157895 0.73684211 0.84210526 0.94736842 1.05263158 1.15789474\n",
      " 1.26315789 1.36842105 1.47368421 1.57894737 1.68421053 1.78947368\n",
      " 1.89473684 2.        ]\n"
     ]
    }
   ],
   "source": [
    "#5. np.linspace(): You can also use linspace() method to create an array with values that are spaced linearly  in a specified interval:\n",
    "\n",
    "print(np.linspace(2, 9, num=5))\n",
    "print(\"\\n\\n\")\n",
    "print(np.linspace(0, 2, num=20))"
   ],
   "metadata": {
    "collapsed": false,
    "ExecuteTime": {
     "end_time": "2023-12-22T06:31:48.462050100Z",
     "start_time": "2023-12-22T06:31:48.452827100Z"
    }
   },
   "id": "6cc7ed1be1bfe535"
  },
  {
   "cell_type": "code",
   "execution_count": 45,
   "outputs": [
    {
     "name": "stdout",
     "output_type": "stream",
     "text": [
      "[[1 1 1]\n",
      " [1 1 1]]\n",
      "\n",
      "=============>>\n"
     ]
    },
    {
     "data": {
      "text/plain": "array([[              0,               0,               0,\n                      0,               0],\n       [              0,               0,               0,\n                      0,               0],\n       [              0,               0,               0,\n                      0, 137839914269218]], dtype=int64)"
     },
     "execution_count": 45,
     "metadata": {},
     "output_type": "execute_result"
    }
   ],
   "source": [
    "#6. Specifying your data type:\n",
    "# While the default data type is floating point(np.float64), you can explicitly specify which data type you want using dtype keyword\n",
    "\n",
    "print(np.ones((2, 3), dtype=np.int64))\n",
    "print('\\n=============>>\\n')\n",
    "np.empty((3, 5), dtype=np.int64)"
   ],
   "metadata": {
    "collapsed": false,
    "ExecuteTime": {
     "end_time": "2023-12-22T06:37:03.537575100Z",
     "start_time": "2023-12-22T06:37:03.518439400Z"
    }
   },
   "id": "6ef44e8a9336537a"
  },
  {
   "cell_type": "code",
   "execution_count": 46,
   "outputs": [
    {
     "name": "stdout",
     "output_type": "stream",
     "text": [
      "[1 2 3 4 5 6 7 8]\n"
     ]
    }
   ],
   "source": [
    "\"\"\"\n",
    "Adding, removing, and sorting elements\n",
    "\"\"\"\n",
    "\n",
    "#1. sort(): Sorting an element in array. You can specify the axis, kind, and order when you call the function.\n",
    "# You can quickly sort the numbers in ascending order with:\n",
    "arr = np.array([2, 1, 5, 3, 7, 4, 6, 8])\n",
    "\n",
    "print(np.sort(arr))"
   ],
   "metadata": {
    "collapsed": false,
    "ExecuteTime": {
     "end_time": "2023-12-22T07:08:00.243831500Z",
     "start_time": "2023-12-22T07:08:00.217226500Z"
    }
   },
   "id": "fe8c3e6cfda53c0c"
  },
  {
   "cell_type": "code",
   "execution_count": 58,
   "outputs": [
    {
     "name": "stdout",
     "output_type": "stream",
     "text": [
      "[[ 2  7  8 10]\n",
      " [ 1  4  9 12]\n",
      " [ 3  5  6 11]]\n",
      "\n",
      "\n",
      "\n",
      "[[1 2 0 3]\n",
      " [2 1 3 0]\n",
      " [0 2 1 3]]\n"
     ]
    }
   ],
   "source": [
    "#in addition to sort, which return sorted copy of an array, you can use:\n",
    "#argsort: which is an indirect sort along a specified axis,\n",
    "#lexsort: which is and indirect stable sort on multiple keys,\n",
    "#searchsorted: which will find elements in a sorted array\n",
    "#partition: which is a partial sort.\n",
    "\n",
    "arr = np.array([[8, 2, 7, 10], [12, 4, 1, 9], [3, 6, 5, 11]])\n",
    "print(np.sort(arr))\n",
    "print('\\n\\n')\n",
    "print(np.argsort(arr))"
   ],
   "metadata": {
    "collapsed": false,
    "ExecuteTime": {
     "end_time": "2023-12-22T07:15:34.642754200Z",
     "start_time": "2023-12-22T07:15:34.613854Z"
    }
   },
   "id": "1d64f447919be406"
  },
  {
   "cell_type": "code",
   "execution_count": 63,
   "outputs": [
    {
     "data": {
      "text/plain": "array([ 1,  2,  3,  4,  9, 10,  5,  6,  7,  8])"
     },
     "execution_count": 63,
     "metadata": {},
     "output_type": "execute_result"
    }
   ],
   "source": [
    "# .concatenate(): You can concatenate arrays with this method.\n",
    "a = np.array([1, 2, 3, 4])\n",
    "b = np.array([5, 6, 7, 8])\n",
    "c = np.array([9, 10])\n",
    "np.concatenate((a, c, b))"
   ],
   "metadata": {
    "collapsed": false,
    "ExecuteTime": {
     "end_time": "2023-12-22T07:18:26.026697100Z",
     "start_time": "2023-12-22T07:18:26.011635Z"
    }
   },
   "id": "3504a286da756d64"
  },
  {
   "cell_type": "code",
   "execution_count": 65,
   "outputs": [
    {
     "data": {
      "text/plain": "array([[1, 2],\n       [3, 4],\n       [5, 6]])"
     },
     "execution_count": 65,
     "metadata": {},
     "output_type": "execute_result"
    }
   ],
   "source": [
    "x = np.array([[1, 2], [3, 4]])\n",
    "y = np.array([[5, 6]])\n",
    "np.concatenate((x, y))"
   ],
   "metadata": {
    "collapsed": false,
    "ExecuteTime": {
     "end_time": "2023-12-22T07:20:11.234025600Z",
     "start_time": "2023-12-22T07:20:11.198768Z"
    }
   },
   "id": "947270b36fa33da5"
  },
  {
   "cell_type": "code",
   "execution_count": 75,
   "outputs": [
    {
     "name": "stdout",
     "output_type": "stream",
     "text": [
      "[11 12 14 15]\n"
     ]
    }
   ],
   "source": [
    "#Remove Elements: in order to remove elements from an array, it's simple to use indexing to select the elements that you want to keep\n",
    "\n",
    "a = np.array([11, 12, 13, 14, 15])\n",
    "#now i want to remove 12:\n",
    "a = a[[0, 1, 3, 4]]\n",
    "print(a)"
   ],
   "metadata": {
    "collapsed": false,
    "ExecuteTime": {
     "end_time": "2023-12-22T07:27:29.379004Z",
     "start_time": "2023-12-22T07:27:29.376008900Z"
    }
   },
   "id": "a7f219e7f4ac3936"
  },
  {
   "cell_type": "code",
   "execution_count": 76,
   "outputs": [
    {
     "name": "stdout",
     "output_type": "stream",
     "text": [
      "[[[0 1 2 3]\n",
      "  [4 5 6 7]]\n",
      "\n",
      " [[0 1 2 3]\n",
      "  [4 5 6 7]]\n",
      "\n",
      " [[0 1 2 3]\n",
      "  [4 5 6 7]]]\n",
      "===================>>>\n",
      "dimension: 3\n",
      "====================>>\n",
      "size: 24\n",
      "====================>>\n",
      "shape: (3, 2, 4)\n"
     ]
    }
   ],
   "source": [
    "# .ndim, .shape, .size in ndarray\n",
    "\n",
    "arr = np.array([\n",
    "    [\n",
    "        [0, 1, 2, 3],\n",
    "        [4, 5, 6, 7]\n",
    "    ],\n",
    "    [\n",
    "        [0, 1, 2, 3],\n",
    "        [4, 5, 6, 7]\n",
    "    ],\n",
    "    [\n",
    "        [0, 1, 2, 3],\n",
    "        [4, 5, 6, 7]\n",
    "    ]\n",
    "])\n",
    "\n",
    "print(arr)\n",
    "print('===================>>>')\n",
    "print(\"dimension:\", arr.ndim)\n",
    "print('====================>>')\n",
    "print(\"size:\", arr.size)\n",
    "print('====================>>')\n",
    "print(\"shape:\", arr.shape)"
   ],
   "metadata": {
    "collapsed": false,
    "ExecuteTime": {
     "end_time": "2023-12-22T07:33:30.415219500Z",
     "start_time": "2023-12-22T07:33:30.368188700Z"
    }
   },
   "id": "edc6178d726b8fb1"
  },
  {
   "cell_type": "code",
   "execution_count": 77,
   "outputs": [
    {
     "name": "stdout",
     "output_type": "stream",
     "text": [
      "a: [0 1 2 3 4 5]\n",
      "reshaped a by (3, 2): [[0 1]\n",
      " [2 3]\n",
      " [4 5]]\n"
     ]
    }
   ],
   "source": [
    "\"\"\"\n",
    "Reshape Array (arr.reshape())\n",
    "--> reshape() method is used to change shape or dimension of an array without changing the actual data it contains.\n",
    "    It allows you to recognize the elements of the array into different arrangement of rows and columns.\n",
    "\n",
    "Note: Just remember that when you use the reshape method, the array you want to produce needs to have the same number of elements as the original array.\n",
    "eg: array with 6 elements --> .reshape(3, 2) ---> 3x2 = 6\n",
    "\"\"\"\n",
    "\n",
    "a = np.arange(6)\n",
    "print(\"a:\", a)\n",
    "reshaped_a = a.reshape(3, 2)\n",
    "print(\"reshaped a by (3, 2):\", reshaped_a)"
   ],
   "metadata": {
    "collapsed": false,
    "ExecuteTime": {
     "end_time": "2023-12-22T08:23:49.194967100Z",
     "start_time": "2023-12-22T08:23:49.160385400Z"
    }
   },
   "id": "bfe41b7e3f9388bf"
  },
  {
   "cell_type": "code",
   "execution_count": 83,
   "outputs": [
    {
     "name": "stdout",
     "output_type": "stream",
     "text": [
      "[[0 1]\n",
      " [2 3]\n",
      " [4 5]]\n",
      "=============>>\n",
      "[[0 1 2]\n",
      " [3 4 5]]\n",
      "============>>>\n",
      "[0 1 2 3 4 5]\n"
     ]
    }
   ],
   "source": [
    "b = np.array([[0, 1],\n",
    "              [2, 3],\n",
    "              [4, 5]])\n",
    "print(b)\n",
    "print(\"=============>>\")\n",
    "print(b.reshape(2, 3))\n",
    "print('============>>>')\n",
    "print(b.reshape(6))"
   ],
   "metadata": {
    "collapsed": false,
    "ExecuteTime": {
     "end_time": "2023-12-22T08:26:47.662945200Z",
     "start_time": "2023-12-22T08:26:47.649953300Z"
    }
   },
   "id": "92abdcda3bf78c27"
  },
  {
   "cell_type": "code",
   "execution_count": 86,
   "outputs": [
    {
     "data": {
      "text/plain": "array([[0, 1, 2, 3, 4, 5]])"
     },
     "execution_count": 86,
     "metadata": {},
     "output_type": "execute_result"
    }
   ],
   "source": [
    "#with np.reshape you can specify a few optional parameters\n",
    "\n",
    "\"\"\"\n",
    "a is the array to be reshaped.\n",
    "\n",
    "newshape is the new shape you want. You can specify an integer or a tuple of integers. If you specify an integer, the result will be an array of that length. The shape should be compatible with the original shape.\n",
    "\n",
    "order: C means to read/write the elements using C-like index order, F means to read/write the elements using Fortran-like index order, A means to read/write the elements in Fortran-like index order if a is Fortran contiguous in memory, C-like order otherwise. (This is an optional parameter and doesn’t need to be specified.)\n",
    "\"\"\"\n",
    "\n",
    "a = np.arange(6)  #array([0, 1, 2, 3, 4, 5])\n",
    "np.reshape(a, newshape=(1, 6), order=\"C\")"
   ],
   "metadata": {
    "collapsed": false,
    "ExecuteTime": {
     "end_time": "2023-12-22T08:31:10.220412300Z",
     "start_time": "2023-12-22T08:31:10.210892500Z"
    }
   },
   "id": "3aab3a5ff65c8552"
  },
  {
   "cell_type": "code",
   "execution_count": 96,
   "outputs": [
    {
     "name": "stdout",
     "output_type": "stream",
     "text": [
      "[0 1 2 3 4 5]\n",
      "--------->\n",
      "[[0 1 2 3 4 5]]\n",
      "---------->\n",
      "[[[0 1 2 3 4 5]]]\n",
      "-------------->>\n",
      "\n",
      "column vector:\n",
      "[[0]\n",
      " [1]\n",
      " [2]\n",
      " [3]\n",
      " [4]\n",
      " [5]]\n"
     ]
    }
   ],
   "source": [
    "\"\"\"\n",
    "How to convert 1D array into 2D array (how to add a new axis to and array)\n",
    "You can use \"np.newaxis\" or \"np.expand_dims\" to increase the dimension of an existing array\n",
    "\"\"\"\n",
    "\n",
    "# np.newaxis: using newaxis will increase the dimension of an array by one dimensional when used once. This means that a 1D array become 2D array, a 2D array become 3D array, and so on.\n",
    "\n",
    "a = np.arange(6)\n",
    "print(a)\n",
    "print(\"--------->\")\n",
    "a2 = a[np.newaxis, :]\n",
    "print(a2)\n",
    "print(\"---------->\")\n",
    "a3 = a2[np.newaxis, :]\n",
    "print(a3)\n",
    "print('-------------->>')\n",
    "print(\"\\ncolumn vector:\")\n",
    "print(a[:, np.newaxis])\n"
   ],
   "metadata": {
    "collapsed": false,
    "ExecuteTime": {
     "end_time": "2023-12-22T08:42:02.582225900Z",
     "start_time": "2023-12-22T08:42:02.572222600Z"
    }
   },
   "id": "c12c023ead30cd44"
  },
  {
   "cell_type": "code",
   "execution_count": 97,
   "outputs": [
    {
     "name": "stdout",
     "output_type": "stream",
     "text": [
      "(6,)\n",
      "[0 1 2 3 4 5]\n",
      "==========>>>\n",
      "(6, 1)\n",
      "[[0]\n",
      " [1]\n",
      " [2]\n",
      " [3]\n",
      " [4]\n",
      " [5]]\n",
      "==========>>>\n",
      "(1, 6)\n",
      "[[0 1 2 3 4 5]]\n"
     ]
    }
   ],
   "source": [
    "# You can use np.expand_dims to add an axis at index position 1 and also index position 0:\n",
    "a = np.arange(6)\n",
    "print(a.shape)\n",
    "print(a)\n",
    "print('==========>>>')\n",
    "a1 = np.expand_dims(a, axis=1)\n",
    "print(a1.shape)\n",
    "print(a1)\n",
    "print(\"==========>>>\")\n",
    "a0 = np.expand_dims(a, axis=0)\n",
    "print(a0.shape)\n",
    "print(a0)"
   ],
   "metadata": {
    "collapsed": false,
    "ExecuteTime": {
     "end_time": "2023-12-22T08:49:52.934304700Z",
     "start_time": "2023-12-22T08:49:52.893638500Z"
    }
   },
   "id": "e1aa49764618629c"
  },
  {
   "cell_type": "code",
   "execution_count": 100,
   "outputs": [
    {
     "name": "stdout",
     "output_type": "stream",
     "text": [
      "data: [1 2 3]\n",
      "\n",
      "data[1] ==> 2\n",
      "\n",
      "data[:2] ==> [1 2]\n",
      "\n",
      "data[1:] ==>: [2 3]\n",
      "\n",
      "data[-2:] ==> [2 3]\n"
     ]
    }
   ],
   "source": [
    "\"\"\"\n",
    "* Indexing and Slicing\n",
    "    you can index and slice numpy arrays in the same way you can slice pytho  lists.\n",
    "\"\"\"\n",
    "\n",
    "data = np.array([1, 2, 3])\n",
    "print(\"data:\", data)\n",
    "print(\"\\ndata[1] ==>\", data[1])\n",
    "print(\"\\ndata[:2] ==>\", data[:2])\n",
    "print(\"\\ndata[1:] ==>:\", data[1:])\n",
    "print(\"\\ndata[-2:] ==>\", data[-2:])"
   ],
   "metadata": {
    "collapsed": false,
    "ExecuteTime": {
     "end_time": "2023-12-22T08:57:32.984431100Z",
     "start_time": "2023-12-22T08:57:32.975600500Z"
    }
   },
   "id": "bf1c20e279fa3929"
  },
  {
   "cell_type": "code",
   "execution_count": 105,
   "outputs": [
    {
     "name": "stdout",
     "output_type": "stream",
     "text": [
      "[1 2 3 4 5 6]\n"
     ]
    }
   ],
   "source": [
    "\"\"\"\n",
    "You may want to take a section of your array or specific array elements to use in further analysis or additional operations. To do that, you'll need to subset, slice, and/or index your arrays.\n",
    "\n",
    "If you want to select values from your array that fulfill conditions, it's straightforward with NumPy\n",
    "\"\"\"\n",
    "\n",
    "#select elements that are smaller than 7\n",
    "a = np.array([[1, 2, 3, 4], [5, 6, 7, 8], [9, 10, 11, 12]])\n",
    "print(a[a < 7])"
   ],
   "metadata": {
    "collapsed": false,
    "ExecuteTime": {
     "end_time": "2023-12-22T09:14:21.070476200Z",
     "start_time": "2023-12-22T09:14:21.064301700Z"
    }
   },
   "id": "7eb747faf4f38609"
  },
  {
   "cell_type": "code",
   "execution_count": 109,
   "outputs": [
    {
     "name": "stdout",
     "output_type": "stream",
     "text": [
      "[ 8  9 10 11 12]\n"
     ]
    }
   ],
   "source": [
    "# select elements that are grater or equal to 8 \n",
    "print(a[a >= 8])"
   ],
   "metadata": {
    "collapsed": false,
    "ExecuteTime": {
     "end_time": "2023-12-22T09:17:00.241964200Z",
     "start_time": "2023-12-22T09:17:00.217848300Z"
    }
   },
   "id": "ec86cbf2574609bb"
  },
  {
   "cell_type": "code",
   "execution_count": 108,
   "outputs": [
    {
     "name": "stdout",
     "output_type": "stream",
     "text": [
      "[ 2  4  6  8 10 12]\n"
     ]
    }
   ],
   "source": [
    "# select elements that are divisible by 2\n",
    "print(a[a%2 == 0])"
   ],
   "metadata": {
    "collapsed": false,
    "ExecuteTime": {
     "end_time": "2023-12-22T09:15:31.580883900Z",
     "start_time": "2023-12-22T09:15:31.558918700Z"
    }
   },
   "id": "a04c02fbd38210e0"
  },
  {
   "cell_type": "code",
   "execution_count": 113,
   "outputs": [
    {
     "data": {
      "text/plain": "array([3, 4, 5, 6, 7, 8, 9])"
     },
     "execution_count": 113,
     "metadata": {},
     "output_type": "execute_result"
    }
   ],
   "source": [
    "# you can use &(and) and |(or) operators to satisfy two conditions:\n",
    "c = a[(a > 2) & (a < 10)]\n",
    "c"
   ],
   "metadata": {
    "collapsed": false,
    "ExecuteTime": {
     "end_time": "2023-12-22T09:19:13.656367900Z",
     "start_time": "2023-12-22T09:19:13.644965100Z"
    }
   },
   "id": "eaa77d6e232599da"
  },
  {
   "cell_type": "code",
   "execution_count": 114,
   "outputs": [
    {
     "data": {
      "text/plain": "array([[ True,  True,  True,  True],\n       [ True, False, False, False],\n       [False, False, False, False]])"
     },
     "execution_count": 114,
     "metadata": {},
     "output_type": "execute_result"
    }
   ],
   "source": [
    "less_or_equal_to_5 = (a < 5) | (a == 5)\n",
    "less_or_equal_to_5"
   ],
   "metadata": {
    "collapsed": false,
    "ExecuteTime": {
     "end_time": "2023-12-22T09:20:55.505868500Z",
     "start_time": "2023-12-22T09:20:55.418449Z"
    }
   },
   "id": "3cedb8db6ef8fd0e"
  },
  {
   "cell_type": "code",
   "execution_count": 116,
   "outputs": [
    {
     "name": "stdout",
     "output_type": "stream",
     "text": [
      "(array([0, 0, 0, 0], dtype=int64), array([0, 1, 2, 3], dtype=int64))\n",
      "\n",
      "\n",
      "===========>>>>\n",
      "(array([0, 0, 1, 1, 2, 2], dtype=int64), array([1, 3, 1, 3, 1, 3], dtype=int64))\n"
     ]
    }
   ],
   "source": [
    "# You can also use np.nonzero() to print the indices of elements that are, for example less than 5\n",
    "\n",
    "b = np.nonzero(a < 5)\n",
    "print(b)\n",
    "\n",
    "# In this example, a tuple of arrays was returned: one for each dimensions.\n",
    "# The first array represent the row indices where these values are founds, and second array represent the column indices where the values are found\n",
    "\n",
    "print('\\n\\n===========>>>>')\n",
    "print(np.nonzero(a%2==0))"
   ],
   "metadata": {
    "collapsed": false,
    "ExecuteTime": {
     "end_time": "2023-12-22T09:25:38.798713500Z",
     "start_time": "2023-12-22T09:25:38.768222500Z"
    }
   },
   "id": "766514974812b534"
  },
  {
   "cell_type": "code",
   "execution_count": 121,
   "outputs": [
    {
     "name": "stdout",
     "output_type": "stream",
     "text": [
      "[4 5 6 7 8]\n",
      "\n",
      "=================\n",
      "\n",
      "[[1 1]\n",
      " [2 2]]\n",
      "------------\n",
      "[[3 3]\n",
      " [4 4]]\n",
      "\n",
      "vstack: [[1 1]\n",
      " [2 2]\n",
      " [3 3]\n",
      " [4 4]]\n",
      "\n",
      "hstack: [[1 1 3 3]\n",
      " [2 2 4 4]]\n"
     ]
    }
   ],
   "source": [
    "\"\"\"\n",
    "How to create an array from an existing array:\n",
    "--> This section covers slicing and indexing, np.vstack(), np.hstack(), np.hsplit(), .view(), .copy()\n",
    "\"\"\"\n",
    "\n",
    "a = np.array([1, 2, 3, 4, 5, 6, 7, 8, 9])\n",
    "\n",
    "#You can create a new array from section of an existing array:\n",
    "arr1 = a[3:8]\n",
    "print(arr1)\n",
    "print('\\n=================\\n')\n",
    "\n",
    "# you can also stack two existing arrays, both vertically and horizontally\n",
    "a1 = np.array([\n",
    "    [1, 1],\n",
    "    [2, 2]\n",
    "])\n",
    "a2 = np.array([\n",
    "    [3, 3],\n",
    "    [4, 4]\n",
    "])\n",
    "print(a1)\n",
    "print(\"------------\")\n",
    "print(a2)\n",
    "print(\"\\nvstack:\", np.vstack((a1, a2)))\n",
    "print(\"\\nhstack:\", np.hstack((a1, a2)))"
   ],
   "metadata": {
    "collapsed": false,
    "ExecuteTime": {
     "end_time": "2023-12-22T09:36:04.085582800Z",
     "start_time": "2023-12-22T09:36:04.039331100Z"
    }
   },
   "id": "5cbbaa38478631cd"
  },
  {
   "cell_type": "code",
   "execution_count": 124,
   "outputs": [
    {
     "name": "stdout",
     "output_type": "stream",
     "text": [
      "x: [[ 1  2  3  4  5  6  7  8  9 10 11 12]\n",
      " [13 14 15 16 17 18 19 20 21 22 23 24]]\n",
      "\n",
      "\n",
      "Equally Shaped: [array([[ 1,  2,  3,  4],\n",
      "       [13, 14, 15, 16]]), array([[ 5,  6,  7,  8],\n",
      "       [17, 18, 19, 20]]), array([[ 9, 10, 11, 12],\n",
      "       [21, 22, 23, 24]])]\n",
      "Split after Third and Fourth columns: [array([[ 1,  2,  3],\n",
      "       [13, 14, 15]]), array([[ 4],\n",
      "       [16]]), array([[ 5,  6,  7,  8,  9, 10, 11, 12],\n",
      "       [17, 18, 19, 20, 21, 22, 23, 24]])]\n"
     ]
    }
   ],
   "source": [
    "# You can split an array into several smaller arrays using \"hsplit\".\n",
    "# You can specify either the number of equally shaped arrays to return or the columns after which the division should occur.\n",
    "\n",
    "x = np.arange(1, 25).reshape(2, 12)\n",
    "print(\"x:\", x)\n",
    "\n",
    "# if you want to split this array into three equally shaped arrays, you would run:\n",
    "equally_shaped = np.hsplit(x, 3)\n",
    "print(\"\\n\\nEqually Shaped:\", equally_shaped)\n",
    "\n",
    "# if you want to split your array after third and fourth column:\n",
    "shape_by_columns = np.hsplit(x, (3, 4))\n",
    "print(\"Split after Third and Fourth columns:\", shape_by_columns)"
   ],
   "metadata": {
    "collapsed": false,
    "ExecuteTime": {
     "end_time": "2023-12-22T10:01:14.625999100Z",
     "start_time": "2023-12-22T10:01:14.613367400Z"
    }
   },
   "id": "75e5193156dec901"
  },
  {
   "cell_type": "code",
   "execution_count": 126,
   "outputs": [
    {
     "name": "stdout",
     "output_type": "stream",
     "text": [
      "a: [[ 1  2  3  4]\n",
      " [ 5  6  7  8]\n",
      " [ 9 10 11 12]]\n",
      "\n",
      "b1: [1 2 3 4]\n",
      "\n",
      "b1: [99  2  3  4]\n",
      "[[99  2  3  4]\n",
      " [ 5  6  7  8]\n",
      " [ 9 10 11 12]]\n",
      "\n",
      "a: None\n"
     ]
    }
   ],
   "source": [
    "\"\"\"\n",
    "You can use view method to create a new array object that looks at the same data as the original array (a shallow copy).\n",
    "\n",
    "Views are an important NumPy concept! NumPy functions, as well as operations like indexing and slicing, will return views whenever possible. This saves memory and is faster (no copy of the data has to be made). However it's important to be aware of this: Note: Modifying data in a view also modifies the original array!\n",
    "\"\"\"\n",
    "\n",
    "a = np.arange(1, 13).reshape(3, 4)\n",
    "print(\"a:\", a)\n",
    "b1 = a[0, :]\n",
    "print(\"\\nb1:\", b1)\n",
    "b1[0] = 99\n",
    "print(\"\\nb1:\", b1)\n",
    "print(\"\\na:\", print(a))"
   ],
   "metadata": {
    "collapsed": false,
    "ExecuteTime": {
     "end_time": "2023-12-22T10:09:30.158746Z",
     "start_time": "2023-12-22T10:09:30.144057800Z"
    }
   },
   "id": "66fb9a194e7b0273"
  },
  {
   "cell_type": "code",
   "execution_count": 129,
   "outputs": [
    {
     "name": "stdout",
     "output_type": "stream",
     "text": [
      "a: [1 2 3 4 5]\n",
      "\n",
      "b: [1 2 3 4 5]\n",
      "\n",
      "c: [1 2 3]\n",
      "\n",
      "b: [88  2  3  4  5]\n",
      "a: [1 2 3 4 5]\n"
     ]
    }
   ],
   "source": [
    "# Using \"copy()\" method will make a complete copy of the array and its data(a deep copy).\n",
    "a = np.array([1, 2, 3, 4, 5])\n",
    "print(\"a:\", a)\n",
    "b = a.copy()\n",
    "c = a[:3]\n",
    "print(\"\\nb:\", b)\n",
    "print(\"\\nc:\", c)\n",
    "\n",
    "b[0] = 88\n",
    "print(\"\\nb:\", b)\n",
    "print(\"a:\", a)"
   ],
   "metadata": {
    "collapsed": false,
    "ExecuteTime": {
     "end_time": "2023-12-22T10:13:28.999150400Z",
     "start_time": "2023-12-22T10:13:28.980382Z"
    }
   },
   "id": "727bcef6b8766ee4"
  },
  {
   "cell_type": "code",
   "execution_count": null,
   "outputs": [],
   "source": [],
   "metadata": {
    "collapsed": false
   },
   "id": "8f3d73c870848f67"
  }
 ],
 "metadata": {
  "kernelspec": {
   "display_name": "Python 3",
   "language": "python",
   "name": "python3"
  },
  "language_info": {
   "codemirror_mode": {
    "name": "ipython",
    "version": 2
   },
   "file_extension": ".py",
   "mimetype": "text/x-python",
   "name": "python",
   "nbconvert_exporter": "python",
   "pygments_lexer": "ipython2",
   "version": "2.7.6"
  }
 },
 "nbformat": 4,
 "nbformat_minor": 5
}
